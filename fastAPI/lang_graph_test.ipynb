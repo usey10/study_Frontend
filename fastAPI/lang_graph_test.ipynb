{
 "cells": [
  {
   "cell_type": "code",
   "execution_count": 7,
   "metadata": {},
   "outputs": [
    {
     "name": "stdout",
     "output_type": "stream",
     "text": [
      "{\"detail\":\"Not authenticated\"}\n"
     ]
    }
   ],
   "source": [
    "import httpx\n",
    "\n",
    "url = \"http://127.0.0.1:8000/api/chat/answer\"\n",
    "payload = {\n",
    "    \"question\": \"Explain about quantum mechanics\",\n",
    "    \"session_id\": 0,\n",
    "    \"brand\": \"string\",\n",
    "    \"model\": \"string\"\n",
    "}\n",
    "\n",
    "with httpx.stream(\"POST\", url, json=payload) as response:\n",
    "    for line in response.iter_lines():\n",
    "        if line:  \n",
    "            print(line)  \n"
   ]
  },
  {
   "cell_type": "code",
   "execution_count": 14,
   "metadata": {},
   "outputs": [
    {
     "name": "stdout",
     "output_type": "stream",
     "text": [
      "hi\n"
     ]
    }
   ],
   "source": [
    "test_a = None\n",
    "test_b = False\n",
    "\n",
    "if not test_a:\n",
    "    print(\"hi\")"
   ]
  }
 ],
 "metadata": {
  "kernelspec": {
   "display_name": "RAGproject_env",
   "language": "python",
   "name": "python3"
  },
  "language_info": {
   "codemirror_mode": {
    "name": "ipython",
    "version": 3
   },
   "file_extension": ".py",
   "mimetype": "text/x-python",
   "name": "python",
   "nbconvert_exporter": "python",
   "pygments_lexer": "ipython3",
   "version": "3.12.3"
  }
 },
 "nbformat": 4,
 "nbformat_minor": 2
}
